{
 "cells": [
  {
   "cell_type": "code",
   "execution_count": null,
   "id": "6f3a8c0e",
   "metadata": {},
   "outputs": [],
   "source": [
    "# YOLOv8 Object Detection - Google Colab Notebook\n",
    "# ===============================================\n",
    "\n",
    "# 🚀 Step 1: Setup Environment\n",
    "!pip install ultralytics fiftyone -q\n",
    "\n",
    "import torch, ultralytics\n",
    "print(\"Torch:\", torch.__version__)\n",
    "print(\"Ultralytics:\", ultralytics.__version__)\n",
    "\n",
    "# 🚀 Step 2: Clone Your Repo\n",
    "!git clone https://github.com/aun151214/YOLOv8-Object-Detection-Project-1.git\n",
    "%cd YOLOv8-Object-Detection-Project-1\n",
    "\n",
    "# 🚀 Step 3: Prepare Dataset (OpenImages subset)\n",
    "!python src/prepare_openimages.py\n",
    "\n",
    "# 🚀 Step 4: Train YOLOv8n (10 epochs, free GPU)\n",
    "!yolo detect train model=yolov8n.pt data=configs/data.yaml imgsz=320 epochs=10 batch=16 name=colab_10ep\n",
    "\n",
    "# 🚀 Step 5: Evaluate the Model\n",
    "!yolo detect val model=runs/detect/colab_10ep/weights/best.pt data=configs/data.yaml imgsz=320 batch=16\n",
    "\n",
    "# 🚀 Step 6: Run Inference on Sample Images\n",
    "!mkdir -p samples/test_images\n",
    "!wget -O samples/test_images/test1.jpg https://images.pexels.com/photos/1704120/pexels-photo-1704120.jpeg\n",
    "!wget -O samples/test_images/test2.jpg https://images.pexels.com/photos/210019/pexels-photo-210019.jpeg\n",
    "\n",
    "!yolo detect predict model=runs/detect/colab_10ep/weights/best.pt source=samples/test_images/ save=True\n",
    "\n",
    "# 🚀 Step 7: Zip and Save Results for Download\n",
    "!zip -r colab_results.zip runs/detect/colab_10ep\n"
   ]
  }
 ],
 "metadata": {
  "language_info": {
   "name": "python"
  }
 },
 "nbformat": 4,
 "nbformat_minor": 5
}
